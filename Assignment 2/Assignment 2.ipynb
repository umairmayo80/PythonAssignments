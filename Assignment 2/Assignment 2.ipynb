{
 "cells": [
  {
   "cell_type": "code",
   "execution_count": 1,
   "id": "02ee7907",
   "metadata": {},
   "outputs": [
    {
     "name": "stdout",
     "output_type": "stream",
     "text": [
      "89.66666666666666\n"
     ]
    }
   ],
   "source": [
    "eng = int(89)\n",
    "isl = int(80)\n",
    "math = int(100)\n",
    "\n",
    "totalMarks = int(300)\n",
    "totalObtained = eng + isl + math\n",
    "perCentage = (totalObtained/totalMarks)*100\n",
    "print(perCentage)"
   ]
  },
  {
   "cell_type": "code",
   "execution_count": 3,
   "id": "aca4c237",
   "metadata": {},
   "outputs": [
    {
     "ename": "SyntaxError",
     "evalue": "invalid syntax (<ipython-input-3-9337437de82d>, line 13)",
     "output_type": "error",
     "traceback": [
      "\u001b[1;36m  File \u001b[1;32m\"<ipython-input-3-9337437de82d>\"\u001b[1;36m, line \u001b[1;32m13\u001b[0m\n\u001b[1;33m    else\u001b[0m\n\u001b[1;37m        ^\u001b[0m\n\u001b[1;31mSyntaxError\u001b[0m\u001b[1;31m:\u001b[0m invalid syntax\n"
     ]
    }
   ],
   "source": [
    "if (perCentage>=90 and perCentage <=100):\n",
    "    print(\"Grade:A\")\n",
    "elif (perCentage>=80 and perCentage <90):\n",
    "    print(\"Grade:B\")\n",
    "elif (perCentage>=70 and perCentage < 80):\n",
    "    print(\"Grade:B+\")\n",
    "elif (perCentage>=60 and perCentage <70):\n",
    "    print(\"Grade:C\")\n",
    "elif (perCentage>=50 and perCentage <60):\n",
    "    print(\"Grade:D\")\n",
    "elif (perCentage < 50):\n",
    "    print(\"Grade:F\")\n",
    "else\n",
    "    print(\"Invalid Percentage\");"
   ]
  },
  {
   "cell_type": "code",
   "execution_count": 4,
   "id": "14aef74f",
   "metadata": {},
   "outputs": [
    {
     "name": "stdout",
     "output_type": "stream",
     "text": [
      "89.66666666666666\n",
      "Grade:B+\n"
     ]
    }
   ],
   "source": [
    "eng = int(89)\n",
    "isl = int(80)\n",
    "math = int(100)\n",
    "\n",
    "totalMarks = int(300)\n",
    "totalObtained = eng + isl + math\n",
    "perCentage = (totalObtained/totalMarks)*100\n",
    "print(perCentage)\n",
    "\n",
    "if (perCentage>=90 and perCentage <=100):\n",
    "    print(\"Grade:A\")\n",
    "elif (perCentage>=80 and perCentage <90):\n",
    "    print(\"Grade:B+\")\n",
    "elif (perCentage>=70 and perCentage < 80):\n",
    "    print(\"Grade:B\")\n",
    "elif (perCentage>=60 and perCentage <70):\n",
    "    print(\"Grade:C\")\n",
    "elif (perCentage>=50 and perCentage <60):\n",
    "    print(\"Grade:D\")\n",
    "elif (perCentage < 50):\n",
    "    print(\"Grade:F\")\n",
    "else:\n",
    "    print(\"Invalid Percentage\");"
   ]
  },
  {
   "cell_type": "code",
   "execution_count": null,
   "id": "0038bdda",
   "metadata": {},
   "outputs": [],
   "source": []
  },
  {
   "cell_type": "code",
   "execution_count": null,
   "id": "1a68f395",
   "metadata": {},
   "outputs": [],
   "source": []
  }
 ],
 "metadata": {
  "kernelspec": {
   "display_name": "Python 3",
   "language": "python",
   "name": "python3"
  },
  "language_info": {
   "codemirror_mode": {
    "name": "ipython",
    "version": 3
   },
   "file_extension": ".py",
   "mimetype": "text/x-python",
   "name": "python",
   "nbconvert_exporter": "python",
   "pygments_lexer": "ipython3",
   "version": "3.8.8"
  }
 },
 "nbformat": 4,
 "nbformat_minor": 5
}
