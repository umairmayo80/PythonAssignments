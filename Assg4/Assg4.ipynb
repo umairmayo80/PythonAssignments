{
 "cells": [
  {
   "cell_type": "code",
   "execution_count": 1,
   "id": "4cdf19e1",
   "metadata": {},
   "outputs": [
    {
     "name": "stdout",
     "output_type": "stream",
     "text": [
      "Please select operation -\n",
      "1. Add\n",
      "2. Subtract\n",
      "3. Multiply\n",
      "4. Divide\n",
      "5. Power\n",
      "\n",
      "Select operations form 1, 2, 3, 4,5 :5\n",
      "Enter first number: 2\n",
      "Enter second number: 3\n",
      "2 ^ 3 = 256\n"
     ]
    }
   ],
   "source": [
    "#Calculator\n",
    "  \n",
    "def add(num1, num2):\n",
    "    return num1 + num2\n",
    "\n",
    "def subtract(num1, num2):\n",
    "    return num1 - num2\n",
    "\n",
    "def multiply(num1, num2):\n",
    "    return num1 * num2\n",
    "\n",
    "def divide(num1, num2):\n",
    "    return num1 / num2\n",
    "\n",
    "def power(num1,pw):\n",
    "    if (pw == 0):\n",
    "        return 1\n",
    "    if (pw <0):\n",
    "        print(\"Please Enter Positive Power!.\");\n",
    "        return\n",
    "    result = 1\n",
    "    for i in range((pw)):\n",
    "        result = result*num1\n",
    "\n",
    "    return result\n",
    "    \n",
    "\n",
    "print(\"Please select operation -\\n\" \\\n",
    "        \"1. Add\\n\" \\\n",
    "        \"2. Subtract\\n\" \\\n",
    "        \"3. Multiply\\n\" \\\n",
    "        \"4. Divide\\n\" \\\n",
    "        \"5. Power\\n\")\n",
    "    \n",
    "# Take input from the user \n",
    "select = int(input(\"Select operations form 1, 2, 3, 4,5 :\"))\n",
    "  \n",
    "number_1 = int(input(\"Enter first number: \"))\n",
    "number_2 = int(input(\"Enter second number: \"))\n",
    "  \n",
    "if select == 1:\n",
    "    print(number_1, \"+\", number_2, \"=\",\n",
    "                    add(number_1, number_2))\n",
    "\n",
    "elif select == 2:\n",
    "    print(number_1, \"-\", number_2, \"=\",\n",
    "                    subtract(number_1, number_2))\n",
    "\n",
    "elif select == 3:\n",
    "    print(number_1, \"*\", number_2, \"=\",\n",
    "                    multiply(number_1, number_2))\n",
    "\n",
    "elif select == 4:\n",
    "    print(number_1, \"/\", number_2, \"=\",\n",
    "                    divide(number_1, number_2))\n",
    "elif select == 5:\n",
    "    print(number_1, \"^\", number_2, \"=\",\n",
    "                    power(number_1, number_2))\n",
    "else:\n",
    "    print(\"Invalid input\");"
   ]
  },
  {
   "cell_type": "markdown",
   "id": "c75ddd60",
   "metadata": {},
   "source": [
    "## Check Numric item in list"
   ]
  },
  {
   "cell_type": "code",
   "execution_count": 2,
   "id": "fa74334b",
   "metadata": {},
   "outputs": [
    {
     "name": "stdout",
     "output_type": "stream",
     "text": [
      "Value 4 at index:2\n",
      "Value 5 at index:4\n"
     ]
    }
   ],
   "source": [
    "index = -1\n",
    "list = [\"abc\", \"def\", 4, \"ghi\", 5] \n",
    "for x in list:\n",
    "    index = index + 1; \n",
    "    if type(x) == int: \n",
    "        print(\"Value \"+str(x)+ \" at index:\" + str(index))\n"
   ]
  },
  {
   "cell_type": "markdown",
   "id": "fa0e20e4",
   "metadata": {},
   "source": [
    "## Adding new key in Dict"
   ]
  },
  {
   "cell_type": "code",
   "execution_count": 3,
   "id": "5dff6c40",
   "metadata": {},
   "outputs": [
    {
     "name": "stdout",
     "output_type": "stream",
     "text": [
      "{'brand': 'Ford', 'model': 'Mustang', 'year': 1964}\n",
      "{'brand': 'Ford', 'model': 'Mustang', 'year': 1964, 'color': 'red'}\n"
     ]
    }
   ],
   "source": [
    "car = {\n",
    "\"brand\": \"Ford\",\n",
    "\"model\": \"Mustang\",\n",
    "\"year\": 1964\n",
    "}\n",
    "\n",
    "print(car)\n",
    "#Adding new key Color\n",
    "car[\"color\"] = \"red\"\n",
    "print(car) #after the change\n"
   ]
  },
  {
   "cell_type": "markdown",
   "id": "7f4621e2",
   "metadata": {},
   "source": [
    "## Adding Numeric values in Dict"
   ]
  },
  {
   "cell_type": "code",
   "execution_count": 4,
   "id": "90990e5a",
   "metadata": {},
   "outputs": [
    {
     "name": "stdout",
     "output_type": "stream",
     "text": [
      "{0: 10, 1: 20}\n",
      "{0: 10, 1: 20, 2: 30, 3: 50}\n",
      "110\n"
     ]
    }
   ],
   "source": [
    "d = {0:10, 1:20}\n",
    "print(d)\n",
    "d.update({2:30})\n",
    "\n",
    "\n",
    "d[3] = 50\n",
    "print(d)\n",
    "sum = 0\n",
    "for i in d.values():\n",
    "    if (type(i) == int):\n",
    "        sum = sum +i;\n",
    "\n",
    "print(sum);"
   ]
  },
  {
   "cell_type": "markdown",
   "id": "73dee5d6",
   "metadata": {},
   "source": [
    "## Finding duplicate values in List"
   ]
  },
  {
   "cell_type": "code",
   "execution_count": 5,
   "id": "d876c21b",
   "metadata": {},
   "outputs": [
    {
     "name": "stdout",
     "output_type": "stream",
     "text": [
      "Duplicate values are: [2, 3, 4, 5]\n"
     ]
    }
   ],
   "source": [
    "l=[1,2,3,4,5,2,3,4,7,9,5]\n",
    "uniqueValues=[]\n",
    "duplicateValues = []\n",
    "for i in l:\n",
    "    if i not in uniqueValues:\n",
    "        uniqueValues.append(i)\n",
    "    else:\n",
    "        duplicateValues.append(i)\n",
    "print(\"Duplicate values are:\", duplicateValues);"
   ]
  },
  {
   "cell_type": "markdown",
   "id": "b24c039e",
   "metadata": {},
   "source": [
    "## Checking if a key already exist in a dict"
   ]
  },
  {
   "cell_type": "code",
   "execution_count": 6,
   "id": "1a634b55",
   "metadata": {},
   "outputs": [
    {
     "name": "stdout",
     "output_type": "stream",
     "text": [
      "Enter a Key4\n",
      "Key is present in the dictionary\n"
     ]
    }
   ],
   "source": [
    "d = {1: 10, 2: 20, 3: 30, 4: 40, 5: 50}\n",
    "def is_key_present(key):\n",
    "  if key in d:\n",
    "      return True;\n",
    "  else:\n",
    "      return False;\n",
    "\n",
    "testKey = input(\"Enter a Key\")\n",
    "if (is_key_present(int(testKey))):\n",
    "    print('Key is present in the dictionary')\n",
    "else:\n",
    "    print('Key is not present in the dictionary')\n"
   ]
  },
  {
   "cell_type": "code",
   "execution_count": null,
   "id": "8083f639",
   "metadata": {},
   "outputs": [],
   "source": []
  }
 ],
 "metadata": {
  "kernelspec": {
   "display_name": "Python 3",
   "language": "python",
   "name": "python3"
  },
  "language_info": {
   "codemirror_mode": {
    "name": "ipython",
    "version": 3
   },
   "file_extension": ".py",
   "mimetype": "text/x-python",
   "name": "python",
   "nbconvert_exporter": "python",
   "pygments_lexer": "ipython3",
   "version": "3.8.8"
  }
 },
 "nbformat": 4,
 "nbformat_minor": 5
}
